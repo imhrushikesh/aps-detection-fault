{
 "cells": [
  {
   "cell_type": "code",
   "execution_count": 3,
   "metadata": {},
   "outputs": [],
   "source": [
    "import numpy as np\n",
    "from scipy import stats\n",
    "rng = np.random.default_rng()\n",
    "sample1 = stats.uniform.rvs(size=100, random_state=rng)\n",
    "sample2 = stats.norm.rvs(size=110, random_state=rng)\n",
    "response = stats.ks_2samp(sample1, sample2)"
   ]
  },
  {
   "cell_type": "code",
   "execution_count": 4,
   "metadata": {},
   "outputs": [
    {
     "data": {
      "text/plain": [
       "array([0.74122242, 0.80652942, 0.86392933, 0.04816747, 0.96840929,\n",
       "       0.10189257, 0.73888167, 0.45121706, 0.05186838, 0.84303591,\n",
       "       0.65882968, 0.98239885, 0.51214971, 0.99052326, 0.60202274,\n",
       "       0.41577485, 0.09392598, 0.97102095, 0.44708643, 0.11755491,\n",
       "       0.87197772, 0.22309814, 0.84399169, 0.6313072 , 0.82886029,\n",
       "       0.8756012 , 0.01742577, 0.34342609, 0.4991198 , 0.78916679,\n",
       "       0.03986044, 0.51366031, 0.85900251, 0.8893775 , 0.63385321,\n",
       "       0.41777783, 0.3592486 , 0.68922566, 0.77729084, 0.8321462 ,\n",
       "       0.84076135, 0.55457774, 0.85010637, 0.09173888, 0.50254973,\n",
       "       0.45601705, 0.78905313, 0.97299453, 0.11062026, 0.55112577,\n",
       "       0.10722196, 0.88869522, 0.9001279 , 0.22621113, 0.80991478,\n",
       "       0.0037336 , 0.21301023, 0.88364803, 0.57586255, 0.06069201,\n",
       "       0.22359219, 0.02705058, 0.88235368, 0.02213448, 0.75572805,\n",
       "       0.79830345, 0.38944158, 0.09448097, 0.00975659, 0.8147133 ,\n",
       "       0.96996702, 0.26760229, 0.98338469, 0.25473937, 0.31041877,\n",
       "       0.60253566, 0.17725155, 0.88421879, 0.86702432, 0.17183198,\n",
       "       0.64009436, 0.78420591, 0.20019094, 0.77760245, 0.73281933,\n",
       "       0.38487731, 0.68232245, 0.10499798, 0.70356399, 0.52312263,\n",
       "       0.40379786, 0.01289432, 0.25073802, 0.87100214, 0.79577531,\n",
       "       0.28764991, 0.02483763, 0.52040659, 0.9744639 , 0.97450079])"
      ]
     },
     "execution_count": 4,
     "metadata": {},
     "output_type": "execute_result"
    }
   ],
   "source": [
    "sample1"
   ]
  },
  {
   "cell_type": "code",
   "execution_count": 6,
   "metadata": {},
   "outputs": [
    {
     "data": {
      "text/plain": [
       "array([ 6.92029946e-01, -1.46090598e+00,  1.95961051e+00, -7.32027920e-01,\n",
       "        4.07906016e-01, -5.66241646e-01,  1.95035864e+00,  1.52039642e+00,\n",
       "       -4.44068994e-02, -5.44194361e-01, -4.33703431e-01,  3.55907777e-01,\n",
       "        4.86928332e-01,  1.62468195e+00, -2.21659930e+00, -2.05021600e-01,\n",
       "       -1.56860899e-01, -8.49255805e-01, -1.10081054e+00, -2.51432329e-01,\n",
       "        1.23479070e-01, -7.63204966e-01,  1.11753639e+00,  1.91144835e-01,\n",
       "       -8.41334482e-02,  1.02704938e+00, -5.21468584e-03,  5.43968637e-01,\n",
       "        2.84912373e-01,  2.25446460e+00,  5.96840872e-01, -2.22339374e-01,\n",
       "       -6.20502766e-01,  1.59400935e-02,  2.93543641e-01, -4.57858598e-01,\n",
       "        1.35877066e-02,  1.62898320e+00, -4.04141835e-01, -1.72911485e+00,\n",
       "        5.93380258e-01,  1.54745330e+00,  5.53559205e-01, -9.52832345e-01,\n",
       "       -1.49769920e+00, -1.18182122e+00, -1.44612972e+00, -8.61094053e-01,\n",
       "        3.67283355e-01, -2.30716640e-01,  8.16691970e-01, -9.80560059e-01,\n",
       "       -1.12348820e+00,  9.53473996e-01,  2.62758469e-01, -1.21702462e+00,\n",
       "       -4.97700743e-01, -3.31701515e-01, -5.44587542e-01, -1.41264101e+00,\n",
       "        2.83250113e-01,  5.55646554e-01,  6.58085836e-01, -1.28414608e+00,\n",
       "       -4.70672816e-02,  1.13623562e-01,  5.64466256e-01, -5.05606572e-01,\n",
       "       -1.03910751e-01, -8.20430488e-01, -1.67328729e-01,  1.01811741e+00,\n",
       "       -2.14003256e+00, -2.00863081e+00, -3.97239000e-01,  1.46161719e+00,\n",
       "        6.51890703e-01, -6.52823603e-02, -8.17083805e-01, -6.73185929e-01,\n",
       "        4.65342559e-01,  1.23149749e-03, -6.35358614e-01, -1.07957509e+00,\n",
       "       -4.55044877e-01, -8.66282903e-01, -1.65947057e-01,  1.89427699e-01,\n",
       "       -9.14624455e-01,  3.53516145e-02, -1.38796231e+00, -1.28763516e+00,\n",
       "        3.66189850e-01,  1.13876843e-01, -1.61149552e+00,  5.65562491e-01,\n",
       "       -2.62512249e-02,  4.22430993e-01, -6.07696697e-02,  1.77766086e+00,\n",
       "        1.00268366e+00,  8.82113347e-01,  8.47531309e-01,  1.20859161e-01,\n",
       "       -1.00676691e-01, -3.85597639e-01, -2.31247302e-01, -5.99728114e-01,\n",
       "       -1.20461875e+00, -1.76445897e+00])"
      ]
     },
     "execution_count": 6,
     "metadata": {},
     "output_type": "execute_result"
    }
   ],
   "source": [
    "sample2"
   ]
  },
  {
   "cell_type": "code",
   "execution_count": 7,
   "metadata": {},
   "outputs": [
    {
     "data": {
      "text/plain": [
       "2e-16"
      ]
     },
     "execution_count": 7,
     "metadata": {},
     "output_type": "execute_result"
    }
   ],
   "source": [
    "round(response.pvalue,16)"
   ]
  },
  {
   "cell_type": "code",
   "execution_count": null,
   "metadata": {},
   "outputs": [],
   "source": [
    "#Anomly in my dataset\n",
    "#\n",
    "# 1.High Null Value\n",
    "2. Missing COlumns\n",
    "3. Outlier\n",
    "4. Categorical: \n",
    "Gender--> MALE, FEMALE,OTHER\n"
   ]
  },
  {
   "cell_type": "code",
   "execution_count": 8,
   "metadata": {},
   "outputs": [],
   "source": [
    "import pandas as pd"
   ]
  },
  {
   "cell_type": "code",
   "execution_count": 16,
   "metadata": {},
   "outputs": [
    {
     "name": "stdout",
     "output_type": "stream",
     "text": [
      "1 4\n",
      "2 5\n",
      "3 6\n",
      "4 7\n"
     ]
    }
   ],
   "source": [
    "l1=[1,2,3,4]\n",
    "l2=[4,5,6,7]\n",
    "\n",
    "for l1_val,l2_val in zip(l1,l2):\n",
    "    print(l1_val,l2_val)"
   ]
  },
  {
   "cell_type": "code",
   "execution_count": 9,
   "metadata": {},
   "outputs": [],
   "source": [
    "df = pd.read_csv(\"/config/workspace/artifact/12042022__161545/data_ingestion/dataset/train.csv\")"
   ]
  },
  {
   "cell_type": "code",
   "execution_count": 31,
   "metadata": {},
   "outputs": [
    {
     "data": {
      "text/plain": [
       "0"
      ]
     },
     "execution_count": 31,
     "metadata": {},
     "output_type": "execute_result"
    }
   ],
   "source": [
    "len(df.iloc[:,[0]].drop(\"class\",axis=1).columns)"
   ]
  },
  {
   "cell_type": "code",
   "execution_count": 18,
   "metadata": {},
   "outputs": [
    {
     "data": {
      "text/plain": [
       "['ab_000',\n",
       " 'bk_000',\n",
       " 'bl_000',\n",
       " 'bm_000',\n",
       " 'bn_000',\n",
       " 'bo_000',\n",
       " 'bp_000',\n",
       " 'bq_000',\n",
       " 'br_000',\n",
       " 'cr_000']"
      ]
     },
     "execution_count": 18,
     "metadata": {},
     "output_type": "execute_result"
    }
   ],
   "source": [
    "drop_column_names"
   ]
  },
  {
   "cell_type": "code",
   "execution_count": 22,
   "metadata": {},
   "outputs": [],
   "source": [
    "null_report = df.isna().sum()/df.shape[0]"
   ]
  },
  {
   "cell_type": "code",
   "execution_count": 27,
   "metadata": {},
   "outputs": [
    {
     "data": {
      "text/plain": [
       "Index(['ab_000', 'bk_000', 'bl_000', 'bm_000', 'bn_000', 'bo_000', 'bp_000',\n",
       "       'bq_000', 'br_000', 'cr_000'],\n",
       "      dtype='object')"
      ]
     },
     "execution_count": 27,
     "metadata": {},
     "output_type": "execute_result"
    }
   ],
   "source": [
    "null_report[null_report>0.3].index"
   ]
  },
  {
   "cell_type": "code",
   "execution_count": null,
   "metadata": {},
   "outputs": [],
   "source": []
  }
 ],
 "metadata": {
  "kernelspec": {
   "display_name": "Python 3.8.10 64-bit",
   "language": "python",
   "name": "python3"
  },
  "language_info": {
   "codemirror_mode": {
    "name": "ipython",
    "version": 3
   },
   "file_extension": ".py",
   "mimetype": "text/x-python",
   "name": "python",
   "nbconvert_exporter": "python",
   "pygments_lexer": "ipython3",
   "version": "3.8.10"
  },
  "orig_nbformat": 4,
  "vscode": {
   "interpreter": {
    "hash": "e7370f93d1d0cde622a1f8e1c04877d8463912d04d973331ad4851f04de6915a"
   }
  }
 },
 "nbformat": 4,
 "nbformat_minor": 2
}
